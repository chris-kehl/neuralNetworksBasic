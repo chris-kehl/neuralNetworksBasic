{
  "nbformat": 4,
  "nbformat_minor": 0,
  "metadata": {
    "colab": {
      "name": "game_prediction.ipynb",
      "provenance": [],
      "include_colab_link": true
    },
    "kernelspec": {
      "name": "python3",
      "display_name": "Python 3"
    }
  },
  "cells": [
    {
      "cell_type": "markdown",
      "metadata": {
        "id": "view-in-github",
        "colab_type": "text"
      },
      "source": [
        "<a href=\"https://colab.research.google.com/github/chris-kehl/neuralNetworksBasic/blob/master/game_prediction.ipynb\" target=\"_parent\"><img src=\"https://colab.research.google.com/assets/colab-badge.svg\" alt=\"Open In Colab\"/></a>"
      ]
    },
    {
      "cell_type": "code",
      "metadata": {
        "id": "Bv6Z5iKRr0j5",
        "colab_type": "code",
        "colab": {}
      },
      "source": [
        "# Simple 3 input neural network predicting win of a baseball game\n",
        "\n",
        "def w_sum(a,b):\n",
        "  assert(len(a) == len(b))\n",
        "  output = 0\n",
        "  for i in range(len(a)):\n",
        "    output += (a[i] * b[i])\n",
        "  return output"
      ],
      "execution_count": 0,
      "outputs": []
    },
    {
      "cell_type": "code",
      "metadata": {
        "id": "9axkvjWJseZX",
        "colab_type": "code",
        "colab": {}
      },
      "source": [
        "weights = [0.1, 0.2, 0]"
      ],
      "execution_count": 0,
      "outputs": []
    },
    {
      "cell_type": "code",
      "metadata": {
        "id": "lEVZYx02sqZT",
        "colab_type": "code",
        "colab": {}
      },
      "source": [
        "def neural_network(input, weights):\n",
        "  pred = w_sum(input,weights)\n",
        "  return pred"
      ],
      "execution_count": 0,
      "outputs": []
    },
    {
      "cell_type": "code",
      "metadata": {
        "id": "MP4Chz80szGE",
        "colab_type": "code",
        "colab": {}
      },
      "source": [
        "# Status as the beginning of 4 games in season\n",
        "\n",
        "# spits = spits per average player \n",
        "# wlrec = current games won in percentage\n",
        "# nfans = fan count (in millions)\n",
        "\n",
        "spits = [8.5, 9.5, 9.9, 9.0]\n",
        "wlrec = [0.65, 0.8, 0.8, 0.9]\n",
        "nfans = [1.2, 1.3, 0.5, 1.0]"
      ],
      "execution_count": 0,
      "outputs": []
    },
    {
      "cell_type": "code",
      "metadata": {
        "id": "FWLYbFxNs3jX",
        "colab_type": "code",
        "outputId": "b38c7412-08a9-490f-d7e3-25f79f789105",
        "colab": {
          "base_uri": "https://localhost:8080/",
          "height": 34
        }
      },
      "source": [
        "input = [spits[0], wlrec[0], nfans[0]]\n",
        "pred = neural_network(input,weights)\n",
        "print(pred)"
      ],
      "execution_count": 24,
      "outputs": [
        {
          "output_type": "stream",
          "text": [
            "0.9800000000000001\n"
          ],
          "name": "stdout"
        }
      ]
    }
  ]
}