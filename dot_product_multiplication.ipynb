{
  "nbformat": 4,
  "nbformat_minor": 0,
  "metadata": {
    "colab": {
      "name": "dot_product_multiplication.ipynb",
      "provenance": [],
      "include_colab_link": true
    },
    "kernelspec": {
      "name": "python3",
      "display_name": "Python 3"
    }
  },
  "cells": [
    {
      "cell_type": "markdown",
      "metadata": {
        "id": "view-in-github",
        "colab_type": "text"
      },
      "source": [
        "<a href=\"https://colab.research.google.com/github/chris-kehl/neuralNetworksBasic/blob/master/dot_product_multiplication.ipynb\" target=\"_parent\"><img src=\"https://colab.research.google.com/assets/colab-badge.svg\" alt=\"Open In Colab\"/></a>"
      ]
    },
    {
      "cell_type": "code",
      "metadata": {
        "id": "41Fozp-fmNS0",
        "colab_type": "code",
        "colab": {}
      },
      "source": [
        "Dot product multiplication\n",
        "\n",
        "def w_sum(a,b):\n",
        "  assert(len(a) == len(b))\n",
        "  output = 0\n",
        "  for i in range(len(a)):\n",
        "    output += (a[i] * b[i])\n",
        "  return output"
      ],
      "execution_count": 0,
      "outputs": []
    },
    {
      "cell_type": "code",
      "metadata": {
        "id": "pHuZnLeBnbQ5",
        "colab_type": "code",
        "colab": {}
      },
      "source": [
        "a = [0, 1, 0, 1]\n",
        "b = [1, 0, 1, 0]\n",
        "c = [0, 1, 1, 0]\n",
        "d = [0.5, 0, 0.5, 0]\n",
        "e = [0, 1, -1, 0]"
      ],
      "execution_count": 0,
      "outputs": []
    },
    {
      "cell_type": "code",
      "metadata": {
        "id": "Kx0ke8EJnov6",
        "colab_type": "code",
        "outputId": "011b14ff-9bf2-4df7-ee11-629e07f9c3c6",
        "colab": {
          "base_uri": "https://localhost:8080/",
          "height": 34
        }
      },
      "source": [
        "w_sum(a,c)"
      ],
      "execution_count": 0,
      "outputs": [
        {
          "output_type": "execute_result",
          "data": {
            "text/plain": [
              "1"
            ]
          },
          "metadata": {
            "tags": []
          },
          "execution_count": 44
        }
      ]
    },
    {
      "cell_type": "code",
      "metadata": {
        "id": "QuDJArXAmNoo",
        "colab_type": "code",
        "colab": {}
      },
      "source": [
        ""
      ],
      "execution_count": 0,
      "outputs": []
    }
  ]
}