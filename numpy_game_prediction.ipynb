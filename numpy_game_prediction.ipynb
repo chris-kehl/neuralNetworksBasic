{
  "nbformat": 4,
  "nbformat_minor": 0,
  "metadata": {
    "colab": {
      "name": "numpy_game_prediction.ipynb",
      "provenance": [],
      "include_colab_link": true
    },
    "kernelspec": {
      "name": "python3",
      "display_name": "Python 3"
    }
  },
  "cells": [
    {
      "cell_type": "markdown",
      "metadata": {
        "id": "view-in-github",
        "colab_type": "text"
      },
      "source": [
        "<a href=\"https://colab.research.google.com/github/chris-kehl/neuralNetworksBasic/blob/master/numpy_game_prediction.ipynb\" target=\"_parent\"><img src=\"https://colab.research.google.com/assets/colab-badge.svg\" alt=\"Open In Colab\"/></a>"
      ]
    },
    {
      "cell_type": "code",
      "metadata": {
        "id": "Bv6Z5iKRr0j5",
        "colab_type": "code",
        "colab": {}
      },
      "source": [
        "# Simple 3 input neural network predicting win of a baseball game\n",
        "# when using numpy we can drop the following code and import numpy\n",
        "#def w_sum(a,b):\n",
        " #assert(len(a) == len(b))\n",
        "  #output = 0\n",
        "  #for i in range(len(a)):\n",
        "    #output += (a[i] * b[i])\n",
        "  #return output\n",
        "\n",
        "import numpy as np"
      ],
      "execution_count": 0,
      "outputs": []
    },
    {
      "cell_type": "code",
      "metadata": {
        "id": "9axkvjWJseZX",
        "colab_type": "code",
        "colab": {}
      },
      "source": [
        "weights = [0.1, 0.2, 0]"
      ],
      "execution_count": 0,
      "outputs": []
    },
    {
      "cell_type": "code",
      "metadata": {
        "id": "lEVZYx02sqZT",
        "colab_type": "code",
        "colab": {}
      },
      "source": [
        "\n",
        "def neural_network(input, weights):\n",
        "\n",
        "  pred = w_sum(input,weights)\n",
        "  return pred\n",
        "\n"
      ],
      "execution_count": 0,
      "outputs": []
    },
    {
      "cell_type": "code",
      "metadata": {
        "id": "MP4Chz80szGE",
        "colab_type": "code",
        "colab": {}
      },
      "source": [
        "# Status as the beginning of 4 games in season\n",
        "# to use array we call the np.array\n",
        "\n",
        "# spits = spits per average player \n",
        "# wlrec = current games won in percentage\n",
        "# nfans = fan count (in millions)\n",
        "\n",
        "spits = np.array([8.5, 9.5, 9.9, 9.0])\n",
        "wlrec = np.array([0.65, 0.8, 0.8, 0.9])\n",
        "nfans = np.array([1.2, 1.3, 0.5, 1.0])"
      ],
      "execution_count": 0,
      "outputs": []
    },
    {
      "cell_type": "code",
      "metadata": {
        "id": "FWLYbFxNs3jX",
        "colab_type": "code",
        "outputId": "bf91813f-1f1a-4d94-c101-68e0f461f5dc",
        "colab": {
          "base_uri": "https://localhost:8080/",
          "height": 34
        }
      },
      "source": [
        "# we call the np.array for all the arrays we built above\n",
        "input = np.array([spits[0], wlrec[0], nfans[0]])\n",
        "pred = neural_network(input,weights)\n",
        "print(pred)\n",
        "\n",
        "# note we get the same with numpy as we do defining the w_sum"
      ],
      "execution_count": 38,
      "outputs": [
        {
          "output_type": "stream",
          "text": [
            "0.9800000000000001\n"
          ],
          "name": "stdout"
        }
      ]
    }
  ]
}